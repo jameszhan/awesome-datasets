{
 "cells": [
  {
   "cell_type": "code",
   "execution_count": 13,
   "id": "349706b7-4a33-47d0-9bb0-b3468519d64c",
   "metadata": {},
   "outputs": [],
   "source": [
    "import pandas as pd"
   ]
  },
  {
   "cell_type": "code",
   "execution_count": 14,
   "id": "4413ac46-e65c-4f0b-a688-4322ec1e668b",
   "metadata": {},
   "outputs": [
    {
     "data": {
      "text/plain": [
       "[[1, 1, 2, 2], ['男', '女', '男', '女']]"
      ]
     },
     "execution_count": 14,
     "metadata": {},
     "output_type": "execute_result"
    }
   ],
   "source": [
    "# 索引\n",
    "index_arrays = [[1, 1, 2, 2], ['男', '女', '男', '女']]\n",
    "index_arrays"
   ]
  },
  {
   "cell_type": "code",
   "execution_count": 15,
   "id": "64bbca31-e3fa-4970-89a5-eadc577acc87",
   "metadata": {},
   "outputs": [
    {
     "data": {
      "text/plain": [
       "[['2019', '2019', '2020', '2020'], ['上半年', '下半年', '上半年', '下半年']]"
      ]
     },
     "execution_count": 15,
     "metadata": {},
     "output_type": "execute_result"
    }
   ],
   "source": [
    "# 列名\n",
    "columns_arrays = [['2019', '2019', '2020', '2020'], ['上半年', '下半年', '上半年', '下半年']]\n",
    "columns_arrays"
   ]
  },
  {
   "cell_type": "code",
   "execution_count": 16,
   "id": "d7b52d85-34d7-412d-b6b3-395b9ccd4ac3",
   "metadata": {},
   "outputs": [
    {
     "data": {
      "text/plain": [
       "MultiIndex([(1, '男'),\n",
       "            (1, '女'),\n",
       "            (2, '男'),\n",
       "            (2, '女')],\n",
       "           names=['班级', '性别'])"
      ]
     },
     "execution_count": 16,
     "metadata": {},
     "output_type": "execute_result"
    }
   ],
   "source": [
    "# 索引转换为多层\n",
    "index = pd.MultiIndex.from_arrays(index_arrays, names=('班级', '性别'))\n",
    "index"
   ]
  },
  {
   "cell_type": "code",
   "execution_count": 17,
   "id": "c8b57612-a721-45b0-a056-068f6d618b4f",
   "metadata": {},
   "outputs": [
    {
     "data": {
      "text/plain": [
       "MultiIndex([('2019', '上半年'),\n",
       "            ('2019', '下半年'),\n",
       "            ('2020', '上半年'),\n",
       "            ('2020', '下半年')],\n",
       "           names=['年份', '学期'])"
      ]
     },
     "execution_count": 17,
     "metadata": {},
     "output_type": "execute_result"
    }
   ],
   "source": [
    "# 列名转换为多层\n",
    "columns = pd.MultiIndex.from_arrays(columns_arrays, names=('年份', '学期'))\n",
    "columns"
   ]
  },
  {
   "cell_type": "code",
   "execution_count": 19,
   "id": "2db32b6e-565d-4997-a509-15616d698435",
   "metadata": {},
   "outputs": [
    {
     "data": {
      "text/html": [
       "<div>\n",
       "<style scoped>\n",
       "    .dataframe tbody tr th:only-of-type {\n",
       "        vertical-align: middle;\n",
       "    }\n",
       "\n",
       "    .dataframe tbody tr th {\n",
       "        vertical-align: top;\n",
       "    }\n",
       "\n",
       "    .dataframe thead tr th {\n",
       "        text-align: left;\n",
       "    }\n",
       "\n",
       "    .dataframe thead tr:last-of-type th {\n",
       "        text-align: right;\n",
       "    }\n",
       "</style>\n",
       "<table border=\"1\" class=\"dataframe\">\n",
       "  <thead>\n",
       "    <tr>\n",
       "      <th></th>\n",
       "      <th>年份</th>\n",
       "      <th colspan=\"2\" halign=\"left\">2019</th>\n",
       "      <th colspan=\"2\" halign=\"left\">2020</th>\n",
       "    </tr>\n",
       "    <tr>\n",
       "      <th></th>\n",
       "      <th>学期</th>\n",
       "      <th>上半年</th>\n",
       "      <th>下半年</th>\n",
       "      <th>上半年</th>\n",
       "      <th>下半年</th>\n",
       "    </tr>\n",
       "    <tr>\n",
       "      <th>班级</th>\n",
       "      <th>性别</th>\n",
       "      <th></th>\n",
       "      <th></th>\n",
       "      <th></th>\n",
       "      <th></th>\n",
       "    </tr>\n",
       "  </thead>\n",
       "  <tbody>\n",
       "    <tr>\n",
       "      <th rowspan=\"2\" valign=\"top\">1</th>\n",
       "      <th>男</th>\n",
       "      <td>88</td>\n",
       "      <td>99</td>\n",
       "      <td>88</td>\n",
       "      <td>99</td>\n",
       "    </tr>\n",
       "    <tr>\n",
       "      <th>女</th>\n",
       "      <td>77</td>\n",
       "      <td>88</td>\n",
       "      <td>97</td>\n",
       "      <td>98</td>\n",
       "    </tr>\n",
       "    <tr>\n",
       "      <th rowspan=\"2\" valign=\"top\">2</th>\n",
       "      <th>男</th>\n",
       "      <td>67</td>\n",
       "      <td>89</td>\n",
       "      <td>54</td>\n",
       "      <td>78</td>\n",
       "    </tr>\n",
       "    <tr>\n",
       "      <th>女</th>\n",
       "      <td>34</td>\n",
       "      <td>67</td>\n",
       "      <td>89</td>\n",
       "      <td>54</td>\n",
       "    </tr>\n",
       "  </tbody>\n",
       "</table>\n",
       "</div>"
      ],
      "text/plain": [
       "年份    2019     2020    \n",
       "学期     上半年 下半年  上半年 下半年\n",
       "班级 性别                  \n",
       "1  男    88  99   88  99\n",
       "   女    77  88   97  98\n",
       "2  男    67  89   54  78\n",
       "   女    34  67   89  54"
      ]
     },
     "execution_count": 19,
     "metadata": {},
     "output_type": "execute_result"
    }
   ],
   "source": [
    "# 应用到DataFrame中\n",
    "df = pd.DataFrame([(88,99,88,99),(77,88,97,98), (67,89,54,78),(34,67,89,54)], columns=columns, index=index)\n",
    "df"
   ]
  },
  {
   "cell_type": "code",
   "execution_count": 20,
   "id": "4b815af6-59f7-4e1f-887d-2762eb2fb76f",
   "metadata": {},
   "outputs": [
    {
     "name": "stdout",
     "output_type": "stream",
     "text": [
      "<class 'pandas.core.frame.DataFrame'>\n",
      "MultiIndex: 4 entries, (1, '男') to (2, '女')\n",
      "Data columns (total 4 columns):\n",
      " #   Column       Non-Null Count  Dtype\n",
      "---  ------       --------------  -----\n",
      " 0   (2019, 上半年)  4 non-null      int64\n",
      " 1   (2019, 下半年)  4 non-null      int64\n",
      " 2   (2020, 上半年)  4 non-null      int64\n",
      " 3   (2020, 下半年)  4 non-null      int64\n",
      "dtypes: int64(4)\n",
      "memory usage: 540.0+ bytes\n"
     ]
    }
   ],
   "source": [
    "df.info()"
   ]
  },
  {
   "cell_type": "code",
   "execution_count": 22,
   "id": "5c6880f8-f19a-48f5-afb1-784e98a19cec",
   "metadata": {},
   "outputs": [
    {
     "data": {
      "text/plain": [
       "FrozenList(['年份', '学期'])"
      ]
     },
     "execution_count": 22,
     "metadata": {},
     "output_type": "execute_result"
    }
   ],
   "source": [
    "df.columns.names"
   ]
  },
  {
   "cell_type": "code",
   "execution_count": 23,
   "id": "e07d9f6d-d587-4713-9e74-90cb0571cb14",
   "metadata": {},
   "outputs": [
    {
     "data": {
      "text/plain": [
       "年份    学期 \n",
       "2019  上半年    88\n",
       "      下半年    99\n",
       "2020  上半年    88\n",
       "      下半年    99\n",
       "Name: (1, 男), dtype: int64"
      ]
     },
     "execution_count": 23,
     "metadata": {},
     "output_type": "execute_result"
    }
   ],
   "source": [
    "df.loc[(1, '男')]"
   ]
  },
  {
   "cell_type": "code",
   "execution_count": 25,
   "id": "f083db1d-f0cd-40e9-ba10-16a1d6dd937c",
   "metadata": {},
   "outputs": [
    {
     "data": {
      "text/plain": [
       "学期\n",
       "上半年    88\n",
       "下半年    99\n",
       "Name: (1, 男), dtype: int64"
      ]
     },
     "execution_count": 25,
     "metadata": {},
     "output_type": "execute_result"
    }
   ],
   "source": [
    "df.loc[(1, '男'), '2020']"
   ]
  }
 ],
 "metadata": {
  "kernelspec": {
   "display_name": "Python 3 (ipykernel)",
   "language": "python",
   "name": "python3"
  },
  "language_info": {
   "codemirror_mode": {
    "name": "ipython",
    "version": 3
   },
   "file_extension": ".py",
   "mimetype": "text/x-python",
   "name": "python",
   "nbconvert_exporter": "python",
   "pygments_lexer": "ipython3",
   "version": "3.10.4"
  }
 },
 "nbformat": 4,
 "nbformat_minor": 5
}
