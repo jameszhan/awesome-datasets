{
 "cells": [
  {
   "cell_type": "code",
   "execution_count": 1,
   "id": "e1ecec4d-54cf-4357-89ac-c1e40757424f",
   "metadata": {},
   "outputs": [],
   "source": [
    "from sqlalchemy import create_engine\n",
    "import pandas as pd"
   ]
  },
  {
   "cell_type": "code",
   "execution_count": 2,
   "id": "f97f9e26-b6ad-4c98-bbd9-e87343e4fff8",
   "metadata": {},
   "outputs": [
    {
     "name": "stdout",
     "output_type": "stream",
     "text": [
      "        name     pid sname  level citycode  yzcode         mername      Lng  \\\n",
      "id                                                                            \n",
      "110101   东城区  110100    东城      3      010  100010   中国,北京,北京市,东城区  116.410   \n",
      "110102   西城区  110100    西城      3      010  100032   中国,北京,北京市,西城区  116.360   \n",
      "110105   朝阳区  110100    朝阳      3      010  100020   中国,北京,北京市,朝阳区  116.485   \n",
      "110106   丰台区  110100    丰台      3      010  100071   中国,北京,北京市,丰台区  116.286   \n",
      "110107  石景山区  110100   石景山      3      010  100043  中国,北京,北京市,石景山区  116.223   \n",
      "\n",
      "            Lat       pinyin  \n",
      "id                            \n",
      "110101  39.9316    Dongcheng  \n",
      "110102  39.9305      Xicheng  \n",
      "110105  39.9484     Chaoyang  \n",
      "110106  39.8585      Fengtai  \n",
      "110107  39.9056  Shijingshan  \n",
      "<class 'pandas.core.frame.DataFrame'>\n",
      "Int64Index: 3341 entries, 110101 to 820301\n",
      "Data columns (total 10 columns):\n",
      " #   Column    Non-Null Count  Dtype  \n",
      "---  ------    --------------  -----  \n",
      " 0   name      3341 non-null   object \n",
      " 1   pid       3341 non-null   int64  \n",
      " 2   sname     3341 non-null   object \n",
      " 3   level     3341 non-null   int64  \n",
      " 4   citycode  3341 non-null   object \n",
      " 5   yzcode    3341 non-null   object \n",
      " 6   mername   3341 non-null   object \n",
      " 7   Lng       3341 non-null   float64\n",
      " 8   Lat       3341 non-null   float64\n",
      " 9   pinyin    3341 non-null   object \n",
      "dtypes: float64(2), int64(2), object(6)\n",
      "memory usage: 287.1+ KB\n",
      "None\n"
     ]
    }
   ],
   "source": [
    "# sqlite = create_engine('sqlite://:memory:')\n",
    "# with sqlite.connect() as conn:\n",
    "    \n",
    "from urllib.parse import quote_plus as urlquote\n",
    "host=\"synology-ds918.local\"\n",
    "password = \"Hello@123456\"\n",
    "db_url = f'mysql+pymysql://deploy:{urlquote(password)}@{host}:3306/sample_dbs?charset=utf8'\n",
    "mysql = create_engine(db_url)\n",
    "\n",
    "sql = \"SELECT * FROM region WHERE level = 3\"\n",
    "with mysql.connect() as conn:\n",
    "    df = pd.read_sql(sql, con=conn)\n",
    "    df.set_index('id', inplace=True)\n",
    "    print(df.head())\n",
    "    print(df.info())"
   ]
  },
  {
   "cell_type": "code",
   "execution_count": null,
   "id": "3b095342-1cdc-482a-92e3-25c2e9822937",
   "metadata": {},
   "outputs": [],
   "source": []
  }
 ],
 "metadata": {
  "kernelspec": {
   "display_name": "Python 3 (ipykernel)",
   "language": "python",
   "name": "python3"
  },
  "language_info": {
   "codemirror_mode": {
    "name": "ipython",
    "version": 3
   },
   "file_extension": ".py",
   "mimetype": "text/x-python",
   "name": "python",
   "nbconvert_exporter": "python",
   "pygments_lexer": "ipython3",
   "version": "3.10.4"
  }
 },
 "nbformat": 4,
 "nbformat_minor": 5
}
