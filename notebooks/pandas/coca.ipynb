{
 "cells": [
  {
   "cell_type": "code",
   "execution_count": 62,
   "metadata": {
    "collapsed": true
   },
   "outputs": [],
   "source": [
    "import pandas as pd"
   ]
  },
  {
   "cell_type": "code",
   "execution_count": 63,
   "outputs": [],
   "source": [
    "df = pd.read_excel('/opt/var/downloads/COCA_60000_words.xlsx', index_col=0)"
   ],
   "metadata": {
    "collapsed": false
   }
  },
  {
   "cell_type": "code",
   "execution_count": 64,
   "outputs": [
    {
     "name": "stdout",
     "output_type": "stream",
     "text": [
      "[' A ' ' V ' ' C ' ' I ' ' T ' ' P ' ' D ' ' X ' ' R ' ' M ' ' N ' ' E '\n",
      " ' J ' ' U ']\n"
     ]
    }
   ],
   "source": [
    "print(df['PoS'].unique())"
   ],
   "metadata": {
    "collapsed": false
   }
  },
  {
   "cell_type": "code",
   "execution_count": 65,
   "outputs": [
    {
     "data": {
      "text/plain": "              TOTAL        SPOKEN       FICTION      MAGAZINE     NEWSPAPER  \\\ncount  6.002300e+04  6.002300e+04  6.002300e+04  6.002300e+04  6.002300e+04   \nmean   6.599242e+03  1.364774e+03  1.324437e+03  1.362564e+03  1.256946e+03   \nstd    1.626803e+05  3.649190e+04  3.208469e+04  3.251692e+04  3.081700e+04   \nmin    1.500000e+01  0.000000e+00  0.000000e+00  0.000000e+00  0.000000e+00   \n25%    5.200000e+01  2.000000e+00  5.000000e+00  1.300000e+01  7.000000e+00   \n50%    1.800000e+02  1.200000e+01  2.800000e+01  4.400000e+01  2.800000e+01   \n75%    8.770000e+02  7.800000e+01  1.480000e+02  2.130000e+02  1.590000e+02   \nmax    2.378212e+07  4.873288e+06  4.531786e+06  4.875815e+06  4.646517e+06   \n\n           ACADEMIC  \ncount  6.002300e+04  \nmean   1.290521e+03  \nstd    3.446096e+04  \nmin    0.000000e+00  \n25%    8.000000e+00  \n50%    3.200000e+01  \n75%    1.650000e+02  \nmax    5.544528e+06  ",
      "text/html": "<div>\n<style scoped>\n    .dataframe tbody tr th:only-of-type {\n        vertical-align: middle;\n    }\n\n    .dataframe tbody tr th {\n        vertical-align: top;\n    }\n\n    .dataframe thead th {\n        text-align: right;\n    }\n</style>\n<table border=\"1\" class=\"dataframe\">\n  <thead>\n    <tr style=\"text-align: right;\">\n      <th></th>\n      <th>TOTAL</th>\n      <th>SPOKEN</th>\n      <th>FICTION</th>\n      <th>MAGAZINE</th>\n      <th>NEWSPAPER</th>\n      <th>ACADEMIC</th>\n    </tr>\n  </thead>\n  <tbody>\n    <tr>\n      <th>count</th>\n      <td>6.002300e+04</td>\n      <td>6.002300e+04</td>\n      <td>6.002300e+04</td>\n      <td>6.002300e+04</td>\n      <td>6.002300e+04</td>\n      <td>6.002300e+04</td>\n    </tr>\n    <tr>\n      <th>mean</th>\n      <td>6.599242e+03</td>\n      <td>1.364774e+03</td>\n      <td>1.324437e+03</td>\n      <td>1.362564e+03</td>\n      <td>1.256946e+03</td>\n      <td>1.290521e+03</td>\n    </tr>\n    <tr>\n      <th>std</th>\n      <td>1.626803e+05</td>\n      <td>3.649190e+04</td>\n      <td>3.208469e+04</td>\n      <td>3.251692e+04</td>\n      <td>3.081700e+04</td>\n      <td>3.446096e+04</td>\n    </tr>\n    <tr>\n      <th>min</th>\n      <td>1.500000e+01</td>\n      <td>0.000000e+00</td>\n      <td>0.000000e+00</td>\n      <td>0.000000e+00</td>\n      <td>0.000000e+00</td>\n      <td>0.000000e+00</td>\n    </tr>\n    <tr>\n      <th>25%</th>\n      <td>5.200000e+01</td>\n      <td>2.000000e+00</td>\n      <td>5.000000e+00</td>\n      <td>1.300000e+01</td>\n      <td>7.000000e+00</td>\n      <td>8.000000e+00</td>\n    </tr>\n    <tr>\n      <th>50%</th>\n      <td>1.800000e+02</td>\n      <td>1.200000e+01</td>\n      <td>2.800000e+01</td>\n      <td>4.400000e+01</td>\n      <td>2.800000e+01</td>\n      <td>3.200000e+01</td>\n    </tr>\n    <tr>\n      <th>75%</th>\n      <td>8.770000e+02</td>\n      <td>7.800000e+01</td>\n      <td>1.480000e+02</td>\n      <td>2.130000e+02</td>\n      <td>1.590000e+02</td>\n      <td>1.650000e+02</td>\n    </tr>\n    <tr>\n      <th>max</th>\n      <td>2.378212e+07</td>\n      <td>4.873288e+06</td>\n      <td>4.531786e+06</td>\n      <td>4.875815e+06</td>\n      <td>4.646517e+06</td>\n      <td>5.544528e+06</td>\n    </tr>\n  </tbody>\n</table>\n</div>"
     },
     "execution_count": 65,
     "metadata": {},
     "output_type": "execute_result"
    }
   ],
   "source": [
    "df.describe()"
   ],
   "metadata": {
    "collapsed": false
   }
  },
  {
   "cell_type": "code",
   "execution_count": 66,
   "outputs": [
    {
     "data": {
      "text/plain": "[Int64Index([    1,     2,     3,     4,     5,     6,     7,     8,     9,\n                10,\n             ...\n             60015, 60016, 60017, 60018, 60019, 60020, 60021, 60022, 60023,\n             60024],\n            dtype='int64', name='RANK #', length=60023),\n Index(['PoS', 'word', 'TOTAL', 'SPOKEN', 'FICTION', 'MAGAZINE', 'NEWSPAPER',\n        'ACADEMIC'],\n       dtype='object')]"
     },
     "execution_count": 66,
     "metadata": {},
     "output_type": "execute_result"
    }
   ],
   "source": [
    "df.axes"
   ],
   "metadata": {
    "collapsed": false
   }
  },
  {
   "cell_type": "code",
   "execution_count": 67,
   "outputs": [
    {
     "data": {
      "text/plain": "        PoS       word   TOTAL  SPOKEN  FICTION  MAGAZINE  NEWSPAPER  ACADEMIC\nRANK #                                                                        \n258      U         yes  173566  104462    44654     10869       9358      4223\n411      U          oh  113609   61464    38935      6657       4921      1632\n429      U        yeah  116972   91462    20024      2962       2194       330\n914      U          no   50113   25461    14266      4241       3998      2147\n1433     U         hey   30050   12267    12530      2620       2383       250\n...     ...        ...     ...     ...      ...       ...        ...       ...\n59253    U       hi-ho      21      11        9         1          0         0\n59549    U        egad      20       1       11         7          1         0\n59637    U        zzzz      27       2        0         8         17         0\n59784    U     aye-aye      33       0       10         5          0        18\n59868    U     yes-yes      25       0       24         0          0         1\n\n[180 rows x 8 columns]",
      "text/html": "<div>\n<style scoped>\n    .dataframe tbody tr th:only-of-type {\n        vertical-align: middle;\n    }\n\n    .dataframe tbody tr th {\n        vertical-align: top;\n    }\n\n    .dataframe thead th {\n        text-align: right;\n    }\n</style>\n<table border=\"1\" class=\"dataframe\">\n  <thead>\n    <tr style=\"text-align: right;\">\n      <th></th>\n      <th>PoS</th>\n      <th>word</th>\n      <th>TOTAL</th>\n      <th>SPOKEN</th>\n      <th>FICTION</th>\n      <th>MAGAZINE</th>\n      <th>NEWSPAPER</th>\n      <th>ACADEMIC</th>\n    </tr>\n    <tr>\n      <th>RANK #</th>\n      <th></th>\n      <th></th>\n      <th></th>\n      <th></th>\n      <th></th>\n      <th></th>\n      <th></th>\n      <th></th>\n    </tr>\n  </thead>\n  <tbody>\n    <tr>\n      <th>258</th>\n      <td>U</td>\n      <td>yes</td>\n      <td>173566</td>\n      <td>104462</td>\n      <td>44654</td>\n      <td>10869</td>\n      <td>9358</td>\n      <td>4223</td>\n    </tr>\n    <tr>\n      <th>411</th>\n      <td>U</td>\n      <td>oh</td>\n      <td>113609</td>\n      <td>61464</td>\n      <td>38935</td>\n      <td>6657</td>\n      <td>4921</td>\n      <td>1632</td>\n    </tr>\n    <tr>\n      <th>429</th>\n      <td>U</td>\n      <td>yeah</td>\n      <td>116972</td>\n      <td>91462</td>\n      <td>20024</td>\n      <td>2962</td>\n      <td>2194</td>\n      <td>330</td>\n    </tr>\n    <tr>\n      <th>914</th>\n      <td>U</td>\n      <td>no</td>\n      <td>50113</td>\n      <td>25461</td>\n      <td>14266</td>\n      <td>4241</td>\n      <td>3998</td>\n      <td>2147</td>\n    </tr>\n    <tr>\n      <th>1433</th>\n      <td>U</td>\n      <td>hey</td>\n      <td>30050</td>\n      <td>12267</td>\n      <td>12530</td>\n      <td>2620</td>\n      <td>2383</td>\n      <td>250</td>\n    </tr>\n    <tr>\n      <th>...</th>\n      <td>...</td>\n      <td>...</td>\n      <td>...</td>\n      <td>...</td>\n      <td>...</td>\n      <td>...</td>\n      <td>...</td>\n      <td>...</td>\n    </tr>\n    <tr>\n      <th>59253</th>\n      <td>U</td>\n      <td>hi-ho</td>\n      <td>21</td>\n      <td>11</td>\n      <td>9</td>\n      <td>1</td>\n      <td>0</td>\n      <td>0</td>\n    </tr>\n    <tr>\n      <th>59549</th>\n      <td>U</td>\n      <td>egad</td>\n      <td>20</td>\n      <td>1</td>\n      <td>11</td>\n      <td>7</td>\n      <td>1</td>\n      <td>0</td>\n    </tr>\n    <tr>\n      <th>59637</th>\n      <td>U</td>\n      <td>zzzz</td>\n      <td>27</td>\n      <td>2</td>\n      <td>0</td>\n      <td>8</td>\n      <td>17</td>\n      <td>0</td>\n    </tr>\n    <tr>\n      <th>59784</th>\n      <td>U</td>\n      <td>aye-aye</td>\n      <td>33</td>\n      <td>0</td>\n      <td>10</td>\n      <td>5</td>\n      <td>0</td>\n      <td>18</td>\n    </tr>\n    <tr>\n      <th>59868</th>\n      <td>U</td>\n      <td>yes-yes</td>\n      <td>25</td>\n      <td>0</td>\n      <td>24</td>\n      <td>0</td>\n      <td>0</td>\n      <td>1</td>\n    </tr>\n  </tbody>\n</table>\n<p>180 rows × 8 columns</p>\n</div>"
     },
     "execution_count": 67,
     "metadata": {},
     "output_type": "execute_result"
    }
   ],
   "source": [
    "df[df['PoS'].str.strip() == 'U']"
   ],
   "metadata": {
    "collapsed": false
   }
  },
  {
   "cell_type": "code",
   "execution_count": 68,
   "outputs": [
    {
     "data": {
      "text/plain": "        PoS          word     TOTAL   SPOKEN  FICTION  MAGAZINE  NEWSPAPER  \\\nRANK #                                                                       \n3        C            and  11654439  2347151  2188166   2388111    2130798   \n5        A              a  10999596  2110287  2125067   2496150    2331699   \n6        I             in   7557934  1385889  1117519   1580617    1600390   \n7        T             to   6868227  1666909  1259251   1380223    1308448   \n8        V           have   5335769  1369956  1275240    954391    1012197   \n...     ...           ...       ...      ...      ...       ...        ...   \n59839    N         halloo        27        1       22         0          3   \n59864    N     anthropoid        41        0        2        33          0   \n59923    J      scripting        25        0        0         4          0   \n59981    N          omani        38        3       23         1          4   \n59982    N       alveolar        29        0        0         0          0   \n\n        ACADEMIC  \nRANK #            \n3        2600213  \n5        1936393  \n6        1873519  \n7        1253396  \n8         723985  \n...          ...  \n59839          1  \n59864          6  \n59923         21  \n59981          7  \n59982         29  \n\n[11353 rows x 8 columns]",
      "text/html": "<div>\n<style scoped>\n    .dataframe tbody tr th:only-of-type {\n        vertical-align: middle;\n    }\n\n    .dataframe tbody tr th {\n        vertical-align: top;\n    }\n\n    .dataframe thead th {\n        text-align: right;\n    }\n</style>\n<table border=\"1\" class=\"dataframe\">\n  <thead>\n    <tr style=\"text-align: right;\">\n      <th></th>\n      <th>PoS</th>\n      <th>word</th>\n      <th>TOTAL</th>\n      <th>SPOKEN</th>\n      <th>FICTION</th>\n      <th>MAGAZINE</th>\n      <th>NEWSPAPER</th>\n      <th>ACADEMIC</th>\n    </tr>\n    <tr>\n      <th>RANK #</th>\n      <th></th>\n      <th></th>\n      <th></th>\n      <th></th>\n      <th></th>\n      <th></th>\n      <th></th>\n      <th></th>\n    </tr>\n  </thead>\n  <tbody>\n    <tr>\n      <th>3</th>\n      <td>C</td>\n      <td>and</td>\n      <td>11654439</td>\n      <td>2347151</td>\n      <td>2188166</td>\n      <td>2388111</td>\n      <td>2130798</td>\n      <td>2600213</td>\n    </tr>\n    <tr>\n      <th>5</th>\n      <td>A</td>\n      <td>a</td>\n      <td>10999596</td>\n      <td>2110287</td>\n      <td>2125067</td>\n      <td>2496150</td>\n      <td>2331699</td>\n      <td>1936393</td>\n    </tr>\n    <tr>\n      <th>6</th>\n      <td>I</td>\n      <td>in</td>\n      <td>7557934</td>\n      <td>1385889</td>\n      <td>1117519</td>\n      <td>1580617</td>\n      <td>1600390</td>\n      <td>1873519</td>\n    </tr>\n    <tr>\n      <th>7</th>\n      <td>T</td>\n      <td>to</td>\n      <td>6868227</td>\n      <td>1666909</td>\n      <td>1259251</td>\n      <td>1380223</td>\n      <td>1308448</td>\n      <td>1253396</td>\n    </tr>\n    <tr>\n      <th>8</th>\n      <td>V</td>\n      <td>have</td>\n      <td>5335769</td>\n      <td>1369956</td>\n      <td>1275240</td>\n      <td>954391</td>\n      <td>1012197</td>\n      <td>723985</td>\n    </tr>\n    <tr>\n      <th>...</th>\n      <td>...</td>\n      <td>...</td>\n      <td>...</td>\n      <td>...</td>\n      <td>...</td>\n      <td>...</td>\n      <td>...</td>\n      <td>...</td>\n    </tr>\n    <tr>\n      <th>59839</th>\n      <td>N</td>\n      <td>halloo</td>\n      <td>27</td>\n      <td>1</td>\n      <td>22</td>\n      <td>0</td>\n      <td>3</td>\n      <td>1</td>\n    </tr>\n    <tr>\n      <th>59864</th>\n      <td>N</td>\n      <td>anthropoid</td>\n      <td>41</td>\n      <td>0</td>\n      <td>2</td>\n      <td>33</td>\n      <td>0</td>\n      <td>6</td>\n    </tr>\n    <tr>\n      <th>59923</th>\n      <td>J</td>\n      <td>scripting</td>\n      <td>25</td>\n      <td>0</td>\n      <td>0</td>\n      <td>4</td>\n      <td>0</td>\n      <td>21</td>\n    </tr>\n    <tr>\n      <th>59981</th>\n      <td>N</td>\n      <td>omani</td>\n      <td>38</td>\n      <td>3</td>\n      <td>23</td>\n      <td>1</td>\n      <td>4</td>\n      <td>7</td>\n    </tr>\n    <tr>\n      <th>59982</th>\n      <td>N</td>\n      <td>alveolar</td>\n      <td>29</td>\n      <td>0</td>\n      <td>0</td>\n      <td>0</td>\n      <td>0</td>\n      <td>29</td>\n    </tr>\n  </tbody>\n</table>\n<p>11353 rows × 8 columns</p>\n</div>"
     },
     "execution_count": 68,
     "metadata": {},
     "output_type": "execute_result"
    }
   ],
   "source": [
    "df.groupby('word').filter(lambda x: len(x) > 1)"
   ],
   "metadata": {
    "collapsed": false
   }
  },
  {
   "cell_type": "code",
   "execution_count": 69,
   "outputs": [
    {
     "data": {
      "text/plain": "        PoS   word    TOTAL   SPOKEN  FICTION  MAGAZINE  NEWSPAPER  ACADEMIC\nRANK #                                                                      \n7        T      to  6868227  1666909  1259251   1380223    1308448   1253396\n21764    T       a      371        9      287        48         21         6\n41997    T     tae       59       10       16         4         13        16",
      "text/html": "<div>\n<style scoped>\n    .dataframe tbody tr th:only-of-type {\n        vertical-align: middle;\n    }\n\n    .dataframe tbody tr th {\n        vertical-align: top;\n    }\n\n    .dataframe thead th {\n        text-align: right;\n    }\n</style>\n<table border=\"1\" class=\"dataframe\">\n  <thead>\n    <tr style=\"text-align: right;\">\n      <th></th>\n      <th>PoS</th>\n      <th>word</th>\n      <th>TOTAL</th>\n      <th>SPOKEN</th>\n      <th>FICTION</th>\n      <th>MAGAZINE</th>\n      <th>NEWSPAPER</th>\n      <th>ACADEMIC</th>\n    </tr>\n    <tr>\n      <th>RANK #</th>\n      <th></th>\n      <th></th>\n      <th></th>\n      <th></th>\n      <th></th>\n      <th></th>\n      <th></th>\n      <th></th>\n    </tr>\n  </thead>\n  <tbody>\n    <tr>\n      <th>7</th>\n      <td>T</td>\n      <td>to</td>\n      <td>6868227</td>\n      <td>1666909</td>\n      <td>1259251</td>\n      <td>1380223</td>\n      <td>1308448</td>\n      <td>1253396</td>\n    </tr>\n    <tr>\n      <th>21764</th>\n      <td>T</td>\n      <td>a</td>\n      <td>371</td>\n      <td>9</td>\n      <td>287</td>\n      <td>48</td>\n      <td>21</td>\n      <td>6</td>\n    </tr>\n    <tr>\n      <th>41997</th>\n      <td>T</td>\n      <td>tae</td>\n      <td>59</td>\n      <td>10</td>\n      <td>16</td>\n      <td>4</td>\n      <td>13</td>\n      <td>16</td>\n    </tr>\n  </tbody>\n</table>\n</div>"
     },
     "execution_count": 69,
     "metadata": {},
     "output_type": "execute_result"
    }
   ],
   "source": [
    "df[df['PoS'].str.strip() == 'T']"
   ],
   "metadata": {
    "collapsed": false
   }
  },
  {
   "cell_type": "code",
   "execution_count": 70,
   "outputs": [
    {
     "data": {
      "text/plain": "        PoS   word    TOTAL  SPOKEN  FICTION  MAGAZINE  NEWSPAPER  ACADEMIC\nRANK #                                                                     \n28       X     not  1771490  442938   347150    296541     300958    383903\n29       X     n't  1744284  529586   581365    299024     289779     44530",
      "text/html": "<div>\n<style scoped>\n    .dataframe tbody tr th:only-of-type {\n        vertical-align: middle;\n    }\n\n    .dataframe tbody tr th {\n        vertical-align: top;\n    }\n\n    .dataframe thead th {\n        text-align: right;\n    }\n</style>\n<table border=\"1\" class=\"dataframe\">\n  <thead>\n    <tr style=\"text-align: right;\">\n      <th></th>\n      <th>PoS</th>\n      <th>word</th>\n      <th>TOTAL</th>\n      <th>SPOKEN</th>\n      <th>FICTION</th>\n      <th>MAGAZINE</th>\n      <th>NEWSPAPER</th>\n      <th>ACADEMIC</th>\n    </tr>\n    <tr>\n      <th>RANK #</th>\n      <th></th>\n      <th></th>\n      <th></th>\n      <th></th>\n      <th></th>\n      <th></th>\n      <th></th>\n      <th></th>\n    </tr>\n  </thead>\n  <tbody>\n    <tr>\n      <th>28</th>\n      <td>X</td>\n      <td>not</td>\n      <td>1771490</td>\n      <td>442938</td>\n      <td>347150</td>\n      <td>296541</td>\n      <td>300958</td>\n      <td>383903</td>\n    </tr>\n    <tr>\n      <th>29</th>\n      <td>X</td>\n      <td>n't</td>\n      <td>1744284</td>\n      <td>529586</td>\n      <td>581365</td>\n      <td>299024</td>\n      <td>289779</td>\n      <td>44530</td>\n    </tr>\n  </tbody>\n</table>\n</div>"
     },
     "execution_count": 70,
     "metadata": {},
     "output_type": "execute_result"
    }
   ],
   "source": [
    "df[df['PoS'].str.strip() == 'X']"
   ],
   "metadata": {
    "collapsed": false
   }
  },
  {
   "cell_type": "code",
   "execution_count": 71,
   "outputs": [
    {
     "data": {
      "text/plain": "        PoS     word   TOTAL  SPOKEN  FICTION  MAGAZINE  NEWSPAPER  ACADEMIC\nRANK #                                                                      \n53       E     there  846483  301556   155571    135904     139865    113587",
      "text/html": "<div>\n<style scoped>\n    .dataframe tbody tr th:only-of-type {\n        vertical-align: middle;\n    }\n\n    .dataframe tbody tr th {\n        vertical-align: top;\n    }\n\n    .dataframe thead th {\n        text-align: right;\n    }\n</style>\n<table border=\"1\" class=\"dataframe\">\n  <thead>\n    <tr style=\"text-align: right;\">\n      <th></th>\n      <th>PoS</th>\n      <th>word</th>\n      <th>TOTAL</th>\n      <th>SPOKEN</th>\n      <th>FICTION</th>\n      <th>MAGAZINE</th>\n      <th>NEWSPAPER</th>\n      <th>ACADEMIC</th>\n    </tr>\n    <tr>\n      <th>RANK #</th>\n      <th></th>\n      <th></th>\n      <th></th>\n      <th></th>\n      <th></th>\n      <th></th>\n      <th></th>\n      <th></th>\n    </tr>\n  </thead>\n  <tbody>\n    <tr>\n      <th>53</th>\n      <td>E</td>\n      <td>there</td>\n      <td>846483</td>\n      <td>301556</td>\n      <td>155571</td>\n      <td>135904</td>\n      <td>139865</td>\n      <td>113587</td>\n    </tr>\n  </tbody>\n</table>\n</div>"
     },
     "execution_count": 71,
     "metadata": {},
     "output_type": "execute_result"
    }
   ],
   "source": [
    "df[df['PoS'].str.strip() == 'E']"
   ],
   "metadata": {
    "collapsed": false
   }
  },
  {
   "cell_type": "code",
   "execution_count": 72,
   "outputs": [
    {
     "data": {
      "text/plain": "        PoS        word  TOTAL  SPOKEN  FICTION  MAGAZINE  NEWSPAPER  ACADEMIC\nRANK #                                                                        \n4038     J     abstract   7556     343      600      1672        774      4167\n17347    V     abstract    627      19       52        99         28       429\n19990    N     abstract    801       8       47       103         54       589",
      "text/html": "<div>\n<style scoped>\n    .dataframe tbody tr th:only-of-type {\n        vertical-align: middle;\n    }\n\n    .dataframe tbody tr th {\n        vertical-align: top;\n    }\n\n    .dataframe thead th {\n        text-align: right;\n    }\n</style>\n<table border=\"1\" class=\"dataframe\">\n  <thead>\n    <tr style=\"text-align: right;\">\n      <th></th>\n      <th>PoS</th>\n      <th>word</th>\n      <th>TOTAL</th>\n      <th>SPOKEN</th>\n      <th>FICTION</th>\n      <th>MAGAZINE</th>\n      <th>NEWSPAPER</th>\n      <th>ACADEMIC</th>\n    </tr>\n    <tr>\n      <th>RANK #</th>\n      <th></th>\n      <th></th>\n      <th></th>\n      <th></th>\n      <th></th>\n      <th></th>\n      <th></th>\n      <th></th>\n    </tr>\n  </thead>\n  <tbody>\n    <tr>\n      <th>4038</th>\n      <td>J</td>\n      <td>abstract</td>\n      <td>7556</td>\n      <td>343</td>\n      <td>600</td>\n      <td>1672</td>\n      <td>774</td>\n      <td>4167</td>\n    </tr>\n    <tr>\n      <th>17347</th>\n      <td>V</td>\n      <td>abstract</td>\n      <td>627</td>\n      <td>19</td>\n      <td>52</td>\n      <td>99</td>\n      <td>28</td>\n      <td>429</td>\n    </tr>\n    <tr>\n      <th>19990</th>\n      <td>N</td>\n      <td>abstract</td>\n      <td>801</td>\n      <td>8</td>\n      <td>47</td>\n      <td>103</td>\n      <td>54</td>\n      <td>589</td>\n    </tr>\n  </tbody>\n</table>\n</div>"
     },
     "execution_count": 72,
     "metadata": {},
     "output_type": "execute_result"
    }
   ],
   "source": [
    "df[df['word'].str.strip() == 'abstract']"
   ],
   "metadata": {
    "collapsed": false
   }
  },
  {
   "cell_type": "code",
   "execution_count": 73,
   "outputs": [
    {
     "data": {
      "text/plain": "        PoS word     TOTAL   SPOKEN  FICTION  MAGAZINE  NEWSPAPER  ACADEMIC\nRANK #                                                                     \n5        A     a  10999596  2110287  2125067   2496150    2331699   1936393\n21764    T     a       371        9      287        48         21         6",
      "text/html": "<div>\n<style scoped>\n    .dataframe tbody tr th:only-of-type {\n        vertical-align: middle;\n    }\n\n    .dataframe tbody tr th {\n        vertical-align: top;\n    }\n\n    .dataframe thead th {\n        text-align: right;\n    }\n</style>\n<table border=\"1\" class=\"dataframe\">\n  <thead>\n    <tr style=\"text-align: right;\">\n      <th></th>\n      <th>PoS</th>\n      <th>word</th>\n      <th>TOTAL</th>\n      <th>SPOKEN</th>\n      <th>FICTION</th>\n      <th>MAGAZINE</th>\n      <th>NEWSPAPER</th>\n      <th>ACADEMIC</th>\n    </tr>\n    <tr>\n      <th>RANK #</th>\n      <th></th>\n      <th></th>\n      <th></th>\n      <th></th>\n      <th></th>\n      <th></th>\n      <th></th>\n      <th></th>\n    </tr>\n  </thead>\n  <tbody>\n    <tr>\n      <th>5</th>\n      <td>A</td>\n      <td>a</td>\n      <td>10999596</td>\n      <td>2110287</td>\n      <td>2125067</td>\n      <td>2496150</td>\n      <td>2331699</td>\n      <td>1936393</td>\n    </tr>\n    <tr>\n      <th>21764</th>\n      <td>T</td>\n      <td>a</td>\n      <td>371</td>\n      <td>9</td>\n      <td>287</td>\n      <td>48</td>\n      <td>21</td>\n      <td>6</td>\n    </tr>\n  </tbody>\n</table>\n</div>"
     },
     "execution_count": 73,
     "metadata": {},
     "output_type": "execute_result"
    }
   ],
   "source": [
    "df[df['word'].str.strip() == 'a']"
   ],
   "metadata": {
    "collapsed": false
   }
  },
  {
   "cell_type": "code",
   "execution_count": 74,
   "outputs": [
    {
     "data": {
      "text/plain": "        PoS     word   TOTAL  SPOKEN  FICTION  MAGAZINE  NEWSPAPER  ACADEMIC\nRANK #                                                                      \n53       E     there  846483  301556   155571    135904     139865    113587\n116      R     there  359766  149102   102884     43225      47195     17360",
      "text/html": "<div>\n<style scoped>\n    .dataframe tbody tr th:only-of-type {\n        vertical-align: middle;\n    }\n\n    .dataframe tbody tr th {\n        vertical-align: top;\n    }\n\n    .dataframe thead th {\n        text-align: right;\n    }\n</style>\n<table border=\"1\" class=\"dataframe\">\n  <thead>\n    <tr style=\"text-align: right;\">\n      <th></th>\n      <th>PoS</th>\n      <th>word</th>\n      <th>TOTAL</th>\n      <th>SPOKEN</th>\n      <th>FICTION</th>\n      <th>MAGAZINE</th>\n      <th>NEWSPAPER</th>\n      <th>ACADEMIC</th>\n    </tr>\n    <tr>\n      <th>RANK #</th>\n      <th></th>\n      <th></th>\n      <th></th>\n      <th></th>\n      <th></th>\n      <th></th>\n      <th></th>\n      <th></th>\n    </tr>\n  </thead>\n  <tbody>\n    <tr>\n      <th>53</th>\n      <td>E</td>\n      <td>there</td>\n      <td>846483</td>\n      <td>301556</td>\n      <td>155571</td>\n      <td>135904</td>\n      <td>139865</td>\n      <td>113587</td>\n    </tr>\n    <tr>\n      <th>116</th>\n      <td>R</td>\n      <td>there</td>\n      <td>359766</td>\n      <td>149102</td>\n      <td>102884</td>\n      <td>43225</td>\n      <td>47195</td>\n      <td>17360</td>\n    </tr>\n  </tbody>\n</table>\n</div>"
     },
     "execution_count": 74,
     "metadata": {},
     "output_type": "execute_result"
    }
   ],
   "source": [
    "df[df['word'].str.strip() == 'there']"
   ],
   "metadata": {
    "collapsed": false
   }
  },
  {
   "cell_type": "code",
   "execution_count": 75,
   "outputs": [
    {
     "data": {
      "text/plain": "        PoS  word    TOTAL   SPOKEN  FICTION  MAGAZINE  NEWSPAPER  ACADEMIC\nRANK #                                                                     \n7        T     to  6868227  1666909  1259251   1380223    1308448   1253396\n9        I     to  4176664   768794   791336    870507     803354    942673",
      "text/html": "<div>\n<style scoped>\n    .dataframe tbody tr th:only-of-type {\n        vertical-align: middle;\n    }\n\n    .dataframe tbody tr th {\n        vertical-align: top;\n    }\n\n    .dataframe thead th {\n        text-align: right;\n    }\n</style>\n<table border=\"1\" class=\"dataframe\">\n  <thead>\n    <tr style=\"text-align: right;\">\n      <th></th>\n      <th>PoS</th>\n      <th>word</th>\n      <th>TOTAL</th>\n      <th>SPOKEN</th>\n      <th>FICTION</th>\n      <th>MAGAZINE</th>\n      <th>NEWSPAPER</th>\n      <th>ACADEMIC</th>\n    </tr>\n    <tr>\n      <th>RANK #</th>\n      <th></th>\n      <th></th>\n      <th></th>\n      <th></th>\n      <th></th>\n      <th></th>\n      <th></th>\n      <th></th>\n    </tr>\n  </thead>\n  <tbody>\n    <tr>\n      <th>7</th>\n      <td>T</td>\n      <td>to</td>\n      <td>6868227</td>\n      <td>1666909</td>\n      <td>1259251</td>\n      <td>1380223</td>\n      <td>1308448</td>\n      <td>1253396</td>\n    </tr>\n    <tr>\n      <th>9</th>\n      <td>I</td>\n      <td>to</td>\n      <td>4176664</td>\n      <td>768794</td>\n      <td>791336</td>\n      <td>870507</td>\n      <td>803354</td>\n      <td>942673</td>\n    </tr>\n  </tbody>\n</table>\n</div>"
     },
     "execution_count": 75,
     "metadata": {},
     "output_type": "execute_result"
    }
   ],
   "source": [
    "df[df['word'].str.strip() == 'to']"
   ],
   "metadata": {
    "collapsed": false
   }
  },
  {
   "cell_type": "code",
   "execution_count": 76,
   "outputs": [
    {
     "data": {
      "text/plain": "        PoS   word  TOTAL  SPOKEN  FICTION  MAGAZINE  NEWSPAPER  ACADEMIC\nRANK #                                                                   \n41997    T     tae     59      10       16         4         13        16",
      "text/html": "<div>\n<style scoped>\n    .dataframe tbody tr th:only-of-type {\n        vertical-align: middle;\n    }\n\n    .dataframe tbody tr th {\n        vertical-align: top;\n    }\n\n    .dataframe thead th {\n        text-align: right;\n    }\n</style>\n<table border=\"1\" class=\"dataframe\">\n  <thead>\n    <tr style=\"text-align: right;\">\n      <th></th>\n      <th>PoS</th>\n      <th>word</th>\n      <th>TOTAL</th>\n      <th>SPOKEN</th>\n      <th>FICTION</th>\n      <th>MAGAZINE</th>\n      <th>NEWSPAPER</th>\n      <th>ACADEMIC</th>\n    </tr>\n    <tr>\n      <th>RANK #</th>\n      <th></th>\n      <th></th>\n      <th></th>\n      <th></th>\n      <th></th>\n      <th></th>\n      <th></th>\n      <th></th>\n    </tr>\n  </thead>\n  <tbody>\n    <tr>\n      <th>41997</th>\n      <td>T</td>\n      <td>tae</td>\n      <td>59</td>\n      <td>10</td>\n      <td>16</td>\n      <td>4</td>\n      <td>13</td>\n      <td>16</td>\n    </tr>\n  </tbody>\n</table>\n</div>"
     },
     "execution_count": 76,
     "metadata": {},
     "output_type": "execute_result"
    }
   ],
   "source": [
    "df[df['word'].str.strip() == 'tae']"
   ],
   "metadata": {
    "collapsed": false
   }
  },
  {
   "cell_type": "code",
   "execution_count": 77,
   "outputs": [
    {
     "data": {
      "text/plain": "        PoS   word    TOTAL  SPOKEN  FICTION  MAGAZINE  NEWSPAPER  ACADEMIC\nRANK #                                                                     \n28       X     not  1771490  442938   347150    296541     300958    383903\n2923     C     not    12064    6249      921      1446        880      2568\n36443    R     not       86      43        8         6          7        22",
      "text/html": "<div>\n<style scoped>\n    .dataframe tbody tr th:only-of-type {\n        vertical-align: middle;\n    }\n\n    .dataframe tbody tr th {\n        vertical-align: top;\n    }\n\n    .dataframe thead th {\n        text-align: right;\n    }\n</style>\n<table border=\"1\" class=\"dataframe\">\n  <thead>\n    <tr style=\"text-align: right;\">\n      <th></th>\n      <th>PoS</th>\n      <th>word</th>\n      <th>TOTAL</th>\n      <th>SPOKEN</th>\n      <th>FICTION</th>\n      <th>MAGAZINE</th>\n      <th>NEWSPAPER</th>\n      <th>ACADEMIC</th>\n    </tr>\n    <tr>\n      <th>RANK #</th>\n      <th></th>\n      <th></th>\n      <th></th>\n      <th></th>\n      <th></th>\n      <th></th>\n      <th></th>\n      <th></th>\n    </tr>\n  </thead>\n  <tbody>\n    <tr>\n      <th>28</th>\n      <td>X</td>\n      <td>not</td>\n      <td>1771490</td>\n      <td>442938</td>\n      <td>347150</td>\n      <td>296541</td>\n      <td>300958</td>\n      <td>383903</td>\n    </tr>\n    <tr>\n      <th>2923</th>\n      <td>C</td>\n      <td>not</td>\n      <td>12064</td>\n      <td>6249</td>\n      <td>921</td>\n      <td>1446</td>\n      <td>880</td>\n      <td>2568</td>\n    </tr>\n    <tr>\n      <th>36443</th>\n      <td>R</td>\n      <td>not</td>\n      <td>86</td>\n      <td>43</td>\n      <td>8</td>\n      <td>6</td>\n      <td>7</td>\n      <td>22</td>\n    </tr>\n  </tbody>\n</table>\n</div>"
     },
     "execution_count": 77,
     "metadata": {},
     "output_type": "execute_result"
    }
   ],
   "source": [
    "df[df['word'].str.strip() == 'not']"
   ],
   "metadata": {
    "collapsed": false
   }
  },
  {
   "cell_type": "code",
   "execution_count": 78,
   "outputs": [
    {
     "data": {
      "text/plain": "        PoS   word    TOTAL  SPOKEN  FICTION  MAGAZINE  NEWSPAPER  ACADEMIC\nRANK #                                                                     \n29       X     n't  1744284  529586   581365    299024     289779     44530",
      "text/html": "<div>\n<style scoped>\n    .dataframe tbody tr th:only-of-type {\n        vertical-align: middle;\n    }\n\n    .dataframe tbody tr th {\n        vertical-align: top;\n    }\n\n    .dataframe thead th {\n        text-align: right;\n    }\n</style>\n<table border=\"1\" class=\"dataframe\">\n  <thead>\n    <tr style=\"text-align: right;\">\n      <th></th>\n      <th>PoS</th>\n      <th>word</th>\n      <th>TOTAL</th>\n      <th>SPOKEN</th>\n      <th>FICTION</th>\n      <th>MAGAZINE</th>\n      <th>NEWSPAPER</th>\n      <th>ACADEMIC</th>\n    </tr>\n    <tr>\n      <th>RANK #</th>\n      <th></th>\n      <th></th>\n      <th></th>\n      <th></th>\n      <th></th>\n      <th></th>\n      <th></th>\n      <th></th>\n    </tr>\n  </thead>\n  <tbody>\n    <tr>\n      <th>29</th>\n      <td>X</td>\n      <td>n't</td>\n      <td>1744284</td>\n      <td>529586</td>\n      <td>581365</td>\n      <td>299024</td>\n      <td>289779</td>\n      <td>44530</td>\n    </tr>\n  </tbody>\n</table>\n</div>"
     },
     "execution_count": 78,
     "metadata": {},
     "output_type": "execute_result"
    }
   ],
   "source": [
    "df[df['word'].str.strip() == \"n't\"]"
   ],
   "metadata": {
    "collapsed": false
   }
  },
  {
   "cell_type": "code",
   "execution_count": 79,
   "outputs": [
    {
     "data": {
      "text/plain": "        PoS     word   TOTAL  SPOKEN  FICTION  MAGAZINE  NEWSPAPER  ACADEMIC\nRANK #                                                                      \n274      R     often  151696   14684    14672     43524      28867     49949",
      "text/html": "<div>\n<style scoped>\n    .dataframe tbody tr th:only-of-type {\n        vertical-align: middle;\n    }\n\n    .dataframe tbody tr th {\n        vertical-align: top;\n    }\n\n    .dataframe thead th {\n        text-align: right;\n    }\n</style>\n<table border=\"1\" class=\"dataframe\">\n  <thead>\n    <tr style=\"text-align: right;\">\n      <th></th>\n      <th>PoS</th>\n      <th>word</th>\n      <th>TOTAL</th>\n      <th>SPOKEN</th>\n      <th>FICTION</th>\n      <th>MAGAZINE</th>\n      <th>NEWSPAPER</th>\n      <th>ACADEMIC</th>\n    </tr>\n    <tr>\n      <th>RANK #</th>\n      <th></th>\n      <th></th>\n      <th></th>\n      <th></th>\n      <th></th>\n      <th></th>\n      <th></th>\n      <th></th>\n    </tr>\n  </thead>\n  <tbody>\n    <tr>\n      <th>274</th>\n      <td>R</td>\n      <td>often</td>\n      <td>151696</td>\n      <td>14684</td>\n      <td>14672</td>\n      <td>43524</td>\n      <td>28867</td>\n      <td>49949</td>\n    </tr>\n  </tbody>\n</table>\n</div>"
     },
     "execution_count": 79,
     "metadata": {},
     "output_type": "execute_result"
    }
   ],
   "source": [
    "df[df['word'].str.strip() == \"often\"]"
   ],
   "metadata": {
    "collapsed": false
   }
  },
  {
   "cell_type": "code",
   "execution_count": 80,
   "outputs": [
    {
     "data": {
      "text/plain": "        PoS      word   TOTAL  SPOKEN  FICTION  MAGAZINE  NEWSPAPER  ACADEMIC\nRANK #                                                                       \n381      M     second  112893   16937    15972     20797      27458     31729\n682      N     second   61515   13166    15956     13314      12045      7034\n19312    V     second     510      49       89       100        167       105",
      "text/html": "<div>\n<style scoped>\n    .dataframe tbody tr th:only-of-type {\n        vertical-align: middle;\n    }\n\n    .dataframe tbody tr th {\n        vertical-align: top;\n    }\n\n    .dataframe thead th {\n        text-align: right;\n    }\n</style>\n<table border=\"1\" class=\"dataframe\">\n  <thead>\n    <tr style=\"text-align: right;\">\n      <th></th>\n      <th>PoS</th>\n      <th>word</th>\n      <th>TOTAL</th>\n      <th>SPOKEN</th>\n      <th>FICTION</th>\n      <th>MAGAZINE</th>\n      <th>NEWSPAPER</th>\n      <th>ACADEMIC</th>\n    </tr>\n    <tr>\n      <th>RANK #</th>\n      <th></th>\n      <th></th>\n      <th></th>\n      <th></th>\n      <th></th>\n      <th></th>\n      <th></th>\n      <th></th>\n    </tr>\n  </thead>\n  <tbody>\n    <tr>\n      <th>381</th>\n      <td>M</td>\n      <td>second</td>\n      <td>112893</td>\n      <td>16937</td>\n      <td>15972</td>\n      <td>20797</td>\n      <td>27458</td>\n      <td>31729</td>\n    </tr>\n    <tr>\n      <th>682</th>\n      <td>N</td>\n      <td>second</td>\n      <td>61515</td>\n      <td>13166</td>\n      <td>15956</td>\n      <td>13314</td>\n      <td>12045</td>\n      <td>7034</td>\n    </tr>\n    <tr>\n      <th>19312</th>\n      <td>V</td>\n      <td>second</td>\n      <td>510</td>\n      <td>49</td>\n      <td>89</td>\n      <td>100</td>\n      <td>167</td>\n      <td>105</td>\n    </tr>\n  </tbody>\n</table>\n</div>"
     },
     "execution_count": 80,
     "metadata": {},
     "output_type": "execute_result"
    }
   ],
   "source": [
    "df[df['word'].str.strip() == \"second\"]"
   ],
   "metadata": {
    "collapsed": false
   }
  },
  {
   "cell_type": "code",
   "execution_count": 81,
   "outputs": [
    {
     "data": {
      "text/plain": "        PoS   word   TOTAL  SPOKEN  FICTION  MAGAZINE  NEWSPAPER  ACADEMIC\nRANK #                                                                    \n258      U     yes  173566  104462    44654     10869       9358      4223",
      "text/html": "<div>\n<style scoped>\n    .dataframe tbody tr th:only-of-type {\n        vertical-align: middle;\n    }\n\n    .dataframe tbody tr th {\n        vertical-align: top;\n    }\n\n    .dataframe thead th {\n        text-align: right;\n    }\n</style>\n<table border=\"1\" class=\"dataframe\">\n  <thead>\n    <tr style=\"text-align: right;\">\n      <th></th>\n      <th>PoS</th>\n      <th>word</th>\n      <th>TOTAL</th>\n      <th>SPOKEN</th>\n      <th>FICTION</th>\n      <th>MAGAZINE</th>\n      <th>NEWSPAPER</th>\n      <th>ACADEMIC</th>\n    </tr>\n    <tr>\n      <th>RANK #</th>\n      <th></th>\n      <th></th>\n      <th></th>\n      <th></th>\n      <th></th>\n      <th></th>\n      <th></th>\n      <th></th>\n    </tr>\n  </thead>\n  <tbody>\n    <tr>\n      <th>258</th>\n      <td>U</td>\n      <td>yes</td>\n      <td>173566</td>\n      <td>104462</td>\n      <td>44654</td>\n      <td>10869</td>\n      <td>9358</td>\n      <td>4223</td>\n    </tr>\n  </tbody>\n</table>\n</div>"
     },
     "execution_count": 81,
     "metadata": {},
     "output_type": "execute_result"
    }
   ],
   "source": [
    "df[df['word'].str.strip() == \"yes\"]"
   ],
   "metadata": {
    "collapsed": false
   }
  },
  {
   "cell_type": "code",
   "execution_count": 82,
   "outputs": [
    {
     "data": {
      "text/plain": "        PoS  word   TOTAL  SPOKEN  FICTION  MAGAZINE  NEWSPAPER  ACADEMIC\nRANK #                                                                   \n93       A     no  433546   89216   102749     84267      80340     76974\n698      R     no   58967    8435    14968     12821      10315     12428\n914      U     no   50113   25461    14266      4241       3998      2147\n1105     P     no   37912    7980    13117      7042       6600      3173\n4547     D     no    6083    1984     1288      1318       1008       485",
      "text/html": "<div>\n<style scoped>\n    .dataframe tbody tr th:only-of-type {\n        vertical-align: middle;\n    }\n\n    .dataframe tbody tr th {\n        vertical-align: top;\n    }\n\n    .dataframe thead th {\n        text-align: right;\n    }\n</style>\n<table border=\"1\" class=\"dataframe\">\n  <thead>\n    <tr style=\"text-align: right;\">\n      <th></th>\n      <th>PoS</th>\n      <th>word</th>\n      <th>TOTAL</th>\n      <th>SPOKEN</th>\n      <th>FICTION</th>\n      <th>MAGAZINE</th>\n      <th>NEWSPAPER</th>\n      <th>ACADEMIC</th>\n    </tr>\n    <tr>\n      <th>RANK #</th>\n      <th></th>\n      <th></th>\n      <th></th>\n      <th></th>\n      <th></th>\n      <th></th>\n      <th></th>\n      <th></th>\n    </tr>\n  </thead>\n  <tbody>\n    <tr>\n      <th>93</th>\n      <td>A</td>\n      <td>no</td>\n      <td>433546</td>\n      <td>89216</td>\n      <td>102749</td>\n      <td>84267</td>\n      <td>80340</td>\n      <td>76974</td>\n    </tr>\n    <tr>\n      <th>698</th>\n      <td>R</td>\n      <td>no</td>\n      <td>58967</td>\n      <td>8435</td>\n      <td>14968</td>\n      <td>12821</td>\n      <td>10315</td>\n      <td>12428</td>\n    </tr>\n    <tr>\n      <th>914</th>\n      <td>U</td>\n      <td>no</td>\n      <td>50113</td>\n      <td>25461</td>\n      <td>14266</td>\n      <td>4241</td>\n      <td>3998</td>\n      <td>2147</td>\n    </tr>\n    <tr>\n      <th>1105</th>\n      <td>P</td>\n      <td>no</td>\n      <td>37912</td>\n      <td>7980</td>\n      <td>13117</td>\n      <td>7042</td>\n      <td>6600</td>\n      <td>3173</td>\n    </tr>\n    <tr>\n      <th>4547</th>\n      <td>D</td>\n      <td>no</td>\n      <td>6083</td>\n      <td>1984</td>\n      <td>1288</td>\n      <td>1318</td>\n      <td>1008</td>\n      <td>485</td>\n    </tr>\n  </tbody>\n</table>\n</div>"
     },
     "execution_count": 82,
     "metadata": {},
     "output_type": "execute_result"
    }
   ],
   "source": [
    "df[df['word'].str.strip() == \"no\"]"
   ],
   "metadata": {
    "collapsed": false
   }
  },
  {
   "cell_type": "code",
   "execution_count": 101,
   "outputs": [
    {
     "data": {
      "text/plain": "        PoS   word  TOTAL  SPOKEN  FICTION  MAGAZINE  NEWSPAPER  ACADEMIC\nRANK #                                                                   \n13108    V     boo   1012     265       96       179        440        32\n21107    N     boo    583      70      135       132        205        41\n21206    U     boo    422     135      137        54         79        17",
      "text/html": "<div>\n<style scoped>\n    .dataframe tbody tr th:only-of-type {\n        vertical-align: middle;\n    }\n\n    .dataframe tbody tr th {\n        vertical-align: top;\n    }\n\n    .dataframe thead th {\n        text-align: right;\n    }\n</style>\n<table border=\"1\" class=\"dataframe\">\n  <thead>\n    <tr style=\"text-align: right;\">\n      <th></th>\n      <th>PoS</th>\n      <th>word</th>\n      <th>TOTAL</th>\n      <th>SPOKEN</th>\n      <th>FICTION</th>\n      <th>MAGAZINE</th>\n      <th>NEWSPAPER</th>\n      <th>ACADEMIC</th>\n    </tr>\n    <tr>\n      <th>RANK #</th>\n      <th></th>\n      <th></th>\n      <th></th>\n      <th></th>\n      <th></th>\n      <th></th>\n      <th></th>\n      <th></th>\n    </tr>\n  </thead>\n  <tbody>\n    <tr>\n      <th>13108</th>\n      <td>V</td>\n      <td>boo</td>\n      <td>1012</td>\n      <td>265</td>\n      <td>96</td>\n      <td>179</td>\n      <td>440</td>\n      <td>32</td>\n    </tr>\n    <tr>\n      <th>21107</th>\n      <td>N</td>\n      <td>boo</td>\n      <td>583</td>\n      <td>70</td>\n      <td>135</td>\n      <td>132</td>\n      <td>205</td>\n      <td>41</td>\n    </tr>\n    <tr>\n      <th>21206</th>\n      <td>U</td>\n      <td>boo</td>\n      <td>422</td>\n      <td>135</td>\n      <td>137</td>\n      <td>54</td>\n      <td>79</td>\n      <td>17</td>\n    </tr>\n  </tbody>\n</table>\n</div>"
     },
     "execution_count": 101,
     "metadata": {},
     "output_type": "execute_result"
    }
   ],
   "source": [
    "df[df['word'].str.strip() == \"boo\"]"
   ],
   "metadata": {
    "collapsed": false
   }
  },
  {
   "cell_type": "code",
   "execution_count": 84,
   "outputs": [
    {
     "data": {
      "text/plain": "        PoS      word  TOTAL  SPOKEN  FICTION  MAGAZINE  NEWSPAPER  ACADEMIC\nRANK #                                                                      \n20497    N     cliché    545      42      149       170         35       149",
      "text/html": "<div>\n<style scoped>\n    .dataframe tbody tr th:only-of-type {\n        vertical-align: middle;\n    }\n\n    .dataframe tbody tr th {\n        vertical-align: top;\n    }\n\n    .dataframe thead th {\n        text-align: right;\n    }\n</style>\n<table border=\"1\" class=\"dataframe\">\n  <thead>\n    <tr style=\"text-align: right;\">\n      <th></th>\n      <th>PoS</th>\n      <th>word</th>\n      <th>TOTAL</th>\n      <th>SPOKEN</th>\n      <th>FICTION</th>\n      <th>MAGAZINE</th>\n      <th>NEWSPAPER</th>\n      <th>ACADEMIC</th>\n    </tr>\n    <tr>\n      <th>RANK #</th>\n      <th></th>\n      <th></th>\n      <th></th>\n      <th></th>\n      <th></th>\n      <th></th>\n      <th></th>\n      <th></th>\n    </tr>\n  </thead>\n  <tbody>\n    <tr>\n      <th>20497</th>\n      <td>N</td>\n      <td>cliché</td>\n      <td>545</td>\n      <td>42</td>\n      <td>149</td>\n      <td>170</td>\n      <td>35</td>\n      <td>149</td>\n    </tr>\n  </tbody>\n</table>\n</div>"
     },
     "execution_count": 84,
     "metadata": {},
     "output_type": "execute_result"
    }
   ],
   "source": [
    "df[df['word'].str.strip() == \"cliché\"]"
   ],
   "metadata": {
    "collapsed": false
   }
  },
  {
   "cell_type": "code",
   "execution_count": 85,
   "outputs": [],
   "source": [],
   "metadata": {
    "collapsed": false
   }
  },
  {
   "cell_type": "code",
   "execution_count": 88,
   "outputs": [
    {
     "data": {
      "text/plain": "PoS          12977\nword         12977\nTOTAL        12977\nSPOKEN       12977\nFICTION      12977\nMAGAZINE     12977\nNEWSPAPER    12977\nACADEMIC     12977\ndtype: int64"
     },
     "execution_count": 88,
     "metadata": {},
     "output_type": "execute_result"
    }
   ],
   "source": [
    "df[~df.word.str.fullmatch(r'\\s*[a-z]+\\s*')].count()"
   ],
   "metadata": {
    "collapsed": false
   }
  },
  {
   "cell_type": "code",
   "execution_count": 89,
   "outputs": [
    {
     "data": {
      "text/plain": "PoS          60023\nword         60023\nTOTAL        60023\nSPOKEN       60023\nFICTION      60023\nMAGAZINE     60023\nNEWSPAPER    60023\nACADEMIC     60023\ndtype: int64"
     },
     "execution_count": 89,
     "metadata": {},
     "output_type": "execute_result"
    }
   ],
   "source": [
    "df.count()"
   ],
   "metadata": {
    "collapsed": false
   }
  },
  {
   "cell_type": "code",
   "execution_count": 90,
   "outputs": [
    {
     "data": {
      "text/plain": "PoS          47046\nword         47046\nTOTAL        47046\nSPOKEN       47046\nFICTION      47046\nMAGAZINE     47046\nNEWSPAPER    47046\nACADEMIC     47046\ndtype: int64"
     },
     "execution_count": 90,
     "metadata": {},
     "output_type": "execute_result"
    }
   ],
   "source": [
    "df[df.word.str.fullmatch(r'\\s*[a-z]+\\s*')].count()"
   ],
   "metadata": {
    "collapsed": false
   }
  },
  {
   "cell_type": "code",
   "execution_count": 97,
   "outputs": [
    {
     "data": {
      "text/plain": "array(['  the', '  be', '  and', ..., '  gaoler', '  carcinoid',\n       '  tonus'], dtype=object)"
     },
     "execution_count": 97,
     "metadata": {},
     "output_type": "execute_result"
    }
   ],
   "source": [
    "df[df.word.str.fullmatch(r'\\s*[a-z]+\\s*')]['word'].unique()"
   ],
   "metadata": {
    "collapsed": false
   }
  },
  {
   "cell_type": "code",
   "execution_count": null,
   "outputs": [],
   "source": [],
   "metadata": {
    "collapsed": false
   }
  }
 ],
 "metadata": {
  "kernelspec": {
   "display_name": "Python 3",
   "language": "python",
   "name": "python3"
  },
  "language_info": {
   "codemirror_mode": {
    "name": "ipython",
    "version": 2
   },
   "file_extension": ".py",
   "mimetype": "text/x-python",
   "name": "python",
   "nbconvert_exporter": "python",
   "pygments_lexer": "ipython2",
   "version": "2.7.6"
  }
 },
 "nbformat": 4,
 "nbformat_minor": 0
}
